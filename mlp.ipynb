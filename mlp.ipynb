{
  "cells": [
    {
      "cell_type": "markdown",
      "metadata": {
        "id": "7ceeF6QrSOnj"
      },
      "source": [
        "# Preparação Dos Dados\n"
      ]
    },
    {
      "cell_type": "code",
      "execution_count": 1,
      "metadata": {
        "id": "UQhEHK3TSOnn"
      },
      "outputs": [],
      "source": [
        "import numpy as np\n",
        "import pandas as pd\n",
        "import os\n",
        "\n",
        "# Leitura dos dados originais\n",
        "# mostrar todas as colunas\n",
        "pd.set_option('display.max_columns', None)\n",
        "file_path = 'data/TUCURUI_DIARIA_1939_2016.xlsx'\n",
        "data = pd.read_excel(file_path, header=None, names=['Vazao'])\n",
        "\n",
        "# Função para calcular derivadas percentuais\n",
        "def calcular_derivadas(data):\n",
        "    data['V1'] = data['Vazao'].pct_change() * 100  # Primeira derivada\n",
        "    data['V2'] = data['V1'].diff() # Segunda derivada\n",
        "    return data\n",
        "\n",
        "\n",
        "\n",
        "# Função para criar defasagens\n",
        "def criar_defasagens(data, colunas, entradas):\n",
        "    defasagens_list = []\n",
        "\n",
        "    for col in colunas:\n",
        "        for i in range(entradas, 0, -1):\n",
        "            defasagens_list.append(data[col].shift(i).rename(f'Entrada_{col}_{i}'))\n",
        "        defasagens_list.append(data[col])\n",
        "\n",
        "    for i in range(1, 12):\n",
        "        defasagens_list.append(data['Vazao'].shift(-i).rename(f'Saida_{i}'))\n",
        "    defasagens = pd.concat(defasagens_list, axis=1)\n",
        "    return defasagens"
      ]
    },
    {
      "cell_type": "markdown",
      "metadata": {
        "id": "dsTGRdBbSOnp"
      },
      "source": [
        "# **MODELO 1**"
      ]
    },
    {
      "cell_type": "code",
      "execution_count": 2,
      "metadata": {
        "colab": {
          "base_uri": "https://localhost:8080/"
        },
        "id": "M_ANQS6ESOnq",
        "outputId": "455f3d3f-0447-4f7a-9df0-0fc455062921"
      },
      "outputs": [
        {
          "ename": "KeyboardInterrupt",
          "evalue": "",
          "output_type": "error",
          "traceback": [
            "\u001b[1;31m---------------------------------------------------------------------------\u001b[0m",
            "\u001b[1;31mKeyboardInterrupt\u001b[0m                         Traceback (most recent call last)",
            "Cell \u001b[1;32mIn[2], line 21\u001b[0m\n\u001b[0;32m     19\u001b[0m \u001b[38;5;66;03m# Salvar os DataFrames em arquivos Excel\u001b[39;00m\n\u001b[0;32m     20\u001b[0m data_15\u001b[38;5;241m.\u001b[39mto_excel(file_path_15, index\u001b[38;5;241m=\u001b[39m\u001b[38;5;28;01mFalse\u001b[39;00m)\n\u001b[1;32m---> 21\u001b[0m \u001b[43mdata_30\u001b[49m\u001b[38;5;241;43m.\u001b[39;49m\u001b[43mto_excel\u001b[49m\u001b[43m(\u001b[49m\u001b[43mfile_path_30\u001b[49m\u001b[43m,\u001b[49m\u001b[43m \u001b[49m\u001b[43mindex\u001b[49m\u001b[38;5;241;43m=\u001b[39;49m\u001b[38;5;28;43;01mFalse\u001b[39;49;00m\u001b[43m)\u001b[49m\n\u001b[0;32m     22\u001b[0m data_45\u001b[38;5;241m.\u001b[39mto_excel(file_path_45, index\u001b[38;5;241m=\u001b[39m\u001b[38;5;28;01mFalse\u001b[39;00m)\n\u001b[0;32m     24\u001b[0m \u001b[38;5;28mprint\u001b[39m(\u001b[38;5;124m\"\u001b[39m\u001b[38;5;124mDataFrames salvos com sucesso!\u001b[39m\u001b[38;5;124m\"\u001b[39m)\n",
            "File \u001b[1;32mc:\\Users\\Gabriel\\anaconda3\\Lib\\site-packages\\pandas\\core\\generic.py:2345\u001b[0m, in \u001b[0;36mNDFrame.to_excel\u001b[1;34m(self, excel_writer, sheet_name, na_rep, float_format, columns, header, index, index_label, startrow, startcol, engine, merge_cells, inf_rep, freeze_panes, storage_options, engine_kwargs)\u001b[0m\n\u001b[0;32m   2332\u001b[0m \u001b[38;5;28;01mfrom\u001b[39;00m \u001b[38;5;21;01mpandas\u001b[39;00m\u001b[38;5;21;01m.\u001b[39;00m\u001b[38;5;21;01mio\u001b[39;00m\u001b[38;5;21;01m.\u001b[39;00m\u001b[38;5;21;01mformats\u001b[39;00m\u001b[38;5;21;01m.\u001b[39;00m\u001b[38;5;21;01mexcel\u001b[39;00m \u001b[38;5;28;01mimport\u001b[39;00m ExcelFormatter\n\u001b[0;32m   2334\u001b[0m formatter \u001b[38;5;241m=\u001b[39m ExcelFormatter(\n\u001b[0;32m   2335\u001b[0m     df,\n\u001b[0;32m   2336\u001b[0m     na_rep\u001b[38;5;241m=\u001b[39mna_rep,\n\u001b[1;32m   (...)\u001b[0m\n\u001b[0;32m   2343\u001b[0m     inf_rep\u001b[38;5;241m=\u001b[39minf_rep,\n\u001b[0;32m   2344\u001b[0m )\n\u001b[1;32m-> 2345\u001b[0m \u001b[43mformatter\u001b[49m\u001b[38;5;241;43m.\u001b[39;49m\u001b[43mwrite\u001b[49m\u001b[43m(\u001b[49m\n\u001b[0;32m   2346\u001b[0m \u001b[43m    \u001b[49m\u001b[43mexcel_writer\u001b[49m\u001b[43m,\u001b[49m\n\u001b[0;32m   2347\u001b[0m \u001b[43m    \u001b[49m\u001b[43msheet_name\u001b[49m\u001b[38;5;241;43m=\u001b[39;49m\u001b[43msheet_name\u001b[49m\u001b[43m,\u001b[49m\n\u001b[0;32m   2348\u001b[0m \u001b[43m    \u001b[49m\u001b[43mstartrow\u001b[49m\u001b[38;5;241;43m=\u001b[39;49m\u001b[43mstartrow\u001b[49m\u001b[43m,\u001b[49m\n\u001b[0;32m   2349\u001b[0m \u001b[43m    \u001b[49m\u001b[43mstartcol\u001b[49m\u001b[38;5;241;43m=\u001b[39;49m\u001b[43mstartcol\u001b[49m\u001b[43m,\u001b[49m\n\u001b[0;32m   2350\u001b[0m \u001b[43m    \u001b[49m\u001b[43mfreeze_panes\u001b[49m\u001b[38;5;241;43m=\u001b[39;49m\u001b[43mfreeze_panes\u001b[49m\u001b[43m,\u001b[49m\n\u001b[0;32m   2351\u001b[0m \u001b[43m    \u001b[49m\u001b[43mengine\u001b[49m\u001b[38;5;241;43m=\u001b[39;49m\u001b[43mengine\u001b[49m\u001b[43m,\u001b[49m\n\u001b[0;32m   2352\u001b[0m \u001b[43m    \u001b[49m\u001b[43mstorage_options\u001b[49m\u001b[38;5;241;43m=\u001b[39;49m\u001b[43mstorage_options\u001b[49m\u001b[43m,\u001b[49m\n\u001b[0;32m   2353\u001b[0m \u001b[43m    \u001b[49m\u001b[43mengine_kwargs\u001b[49m\u001b[38;5;241;43m=\u001b[39;49m\u001b[43mengine_kwargs\u001b[49m\u001b[43m,\u001b[49m\n\u001b[0;32m   2354\u001b[0m \u001b[43m\u001b[49m\u001b[43m)\u001b[49m\n",
            "File \u001b[1;32mc:\\Users\\Gabriel\\anaconda3\\Lib\\site-packages\\pandas\\io\\formats\\excel.py:955\u001b[0m, in \u001b[0;36mExcelFormatter.write\u001b[1;34m(self, writer, sheet_name, startrow, startcol, freeze_panes, engine, storage_options, engine_kwargs)\u001b[0m\n\u001b[0;32m    952\u001b[0m     need_save \u001b[38;5;241m=\u001b[39m \u001b[38;5;28;01mTrue\u001b[39;00m\n\u001b[0;32m    954\u001b[0m \u001b[38;5;28;01mtry\u001b[39;00m:\n\u001b[1;32m--> 955\u001b[0m     \u001b[43mwriter\u001b[49m\u001b[38;5;241;43m.\u001b[39;49m\u001b[43m_write_cells\u001b[49m\u001b[43m(\u001b[49m\n\u001b[0;32m    956\u001b[0m \u001b[43m        \u001b[49m\u001b[43mformatted_cells\u001b[49m\u001b[43m,\u001b[49m\n\u001b[0;32m    957\u001b[0m \u001b[43m        \u001b[49m\u001b[43msheet_name\u001b[49m\u001b[43m,\u001b[49m\n\u001b[0;32m    958\u001b[0m \u001b[43m        \u001b[49m\u001b[43mstartrow\u001b[49m\u001b[38;5;241;43m=\u001b[39;49m\u001b[43mstartrow\u001b[49m\u001b[43m,\u001b[49m\n\u001b[0;32m    959\u001b[0m \u001b[43m        \u001b[49m\u001b[43mstartcol\u001b[49m\u001b[38;5;241;43m=\u001b[39;49m\u001b[43mstartcol\u001b[49m\u001b[43m,\u001b[49m\n\u001b[0;32m    960\u001b[0m \u001b[43m        \u001b[49m\u001b[43mfreeze_panes\u001b[49m\u001b[38;5;241;43m=\u001b[39;49m\u001b[43mfreeze_panes\u001b[49m\u001b[43m,\u001b[49m\n\u001b[0;32m    961\u001b[0m \u001b[43m    \u001b[49m\u001b[43m)\u001b[49m\n\u001b[0;32m    962\u001b[0m \u001b[38;5;28;01mfinally\u001b[39;00m:\n\u001b[0;32m    963\u001b[0m     \u001b[38;5;66;03m# make sure to close opened file handles\u001b[39;00m\n\u001b[0;32m    964\u001b[0m     \u001b[38;5;28;01mif\u001b[39;00m need_save:\n",
            "File \u001b[1;32mc:\\Users\\Gabriel\\anaconda3\\Lib\\site-packages\\pandas\\io\\excel\\_openpyxl.py:486\u001b[0m, in \u001b[0;36mOpenpyxlWriter._write_cells\u001b[1;34m(self, cells, sheet_name, startrow, startcol, freeze_panes)\u001b[0m\n\u001b[0;32m    481\u001b[0m     freeze_panes \u001b[38;5;241m=\u001b[39m cast(\u001b[38;5;28mtuple\u001b[39m[\u001b[38;5;28mint\u001b[39m, \u001b[38;5;28mint\u001b[39m], freeze_panes)\n\u001b[0;32m    482\u001b[0m     wks\u001b[38;5;241m.\u001b[39mfreeze_panes \u001b[38;5;241m=\u001b[39m wks\u001b[38;5;241m.\u001b[39mcell(\n\u001b[0;32m    483\u001b[0m         row\u001b[38;5;241m=\u001b[39mfreeze_panes[\u001b[38;5;241m0\u001b[39m] \u001b[38;5;241m+\u001b[39m \u001b[38;5;241m1\u001b[39m, column\u001b[38;5;241m=\u001b[39mfreeze_panes[\u001b[38;5;241m1\u001b[39m] \u001b[38;5;241m+\u001b[39m \u001b[38;5;241m1\u001b[39m\n\u001b[0;32m    484\u001b[0m     )\n\u001b[1;32m--> 486\u001b[0m \u001b[43m\u001b[49m\u001b[38;5;28;43;01mfor\u001b[39;49;00m\u001b[43m \u001b[49m\u001b[43mcell\u001b[49m\u001b[43m \u001b[49m\u001b[38;5;129;43;01min\u001b[39;49;00m\u001b[43m \u001b[49m\u001b[43mcells\u001b[49m\u001b[43m:\u001b[49m\n\u001b[0;32m    487\u001b[0m \u001b[43m    \u001b[49m\u001b[43mxcell\u001b[49m\u001b[43m \u001b[49m\u001b[38;5;241;43m=\u001b[39;49m\u001b[43m \u001b[49m\u001b[43mwks\u001b[49m\u001b[38;5;241;43m.\u001b[39;49m\u001b[43mcell\u001b[49m\u001b[43m(\u001b[49m\n\u001b[0;32m    488\u001b[0m \u001b[43m        \u001b[49m\u001b[43mrow\u001b[49m\u001b[38;5;241;43m=\u001b[39;49m\u001b[43mstartrow\u001b[49m\u001b[43m \u001b[49m\u001b[38;5;241;43m+\u001b[39;49m\u001b[43m \u001b[49m\u001b[43mcell\u001b[49m\u001b[38;5;241;43m.\u001b[39;49m\u001b[43mrow\u001b[49m\u001b[43m \u001b[49m\u001b[38;5;241;43m+\u001b[39;49m\u001b[43m \u001b[49m\u001b[38;5;241;43m1\u001b[39;49m\u001b[43m,\u001b[49m\u001b[43m \u001b[49m\u001b[43mcolumn\u001b[49m\u001b[38;5;241;43m=\u001b[39;49m\u001b[43mstartcol\u001b[49m\u001b[43m \u001b[49m\u001b[38;5;241;43m+\u001b[39;49m\u001b[43m \u001b[49m\u001b[43mcell\u001b[49m\u001b[38;5;241;43m.\u001b[39;49m\u001b[43mcol\u001b[49m\u001b[43m \u001b[49m\u001b[38;5;241;43m+\u001b[39;49m\u001b[43m \u001b[49m\u001b[38;5;241;43m1\u001b[39;49m\n\u001b[0;32m    489\u001b[0m \u001b[43m    \u001b[49m\u001b[43m)\u001b[49m\n\u001b[0;32m    490\u001b[0m \u001b[43m    \u001b[49m\u001b[43mxcell\u001b[49m\u001b[38;5;241;43m.\u001b[39;49m\u001b[43mvalue\u001b[49m\u001b[43m,\u001b[49m\u001b[43m \u001b[49m\u001b[43mfmt\u001b[49m\u001b[43m \u001b[49m\u001b[38;5;241;43m=\u001b[39;49m\u001b[43m \u001b[49m\u001b[38;5;28;43mself\u001b[39;49m\u001b[38;5;241;43m.\u001b[39;49m\u001b[43m_value_with_fmt\u001b[49m\u001b[43m(\u001b[49m\u001b[43mcell\u001b[49m\u001b[38;5;241;43m.\u001b[39;49m\u001b[43mval\u001b[49m\u001b[43m)\u001b[49m\n",
            "File \u001b[1;32mc:\\Users\\Gabriel\\anaconda3\\Lib\\site-packages\\pandas\\io\\formats\\excel.py:889\u001b[0m, in \u001b[0;36mExcelFormatter.get_formatted_cells\u001b[1;34m(self)\u001b[0m\n\u001b[0;32m    888\u001b[0m \u001b[38;5;28;01mdef\u001b[39;00m \u001b[38;5;21mget_formatted_cells\u001b[39m(\u001b[38;5;28mself\u001b[39m) \u001b[38;5;241m-\u001b[39m\u001b[38;5;241m>\u001b[39m Iterable[ExcelCell]:\n\u001b[1;32m--> 889\u001b[0m \u001b[43m    \u001b[49m\u001b[38;5;28;43;01mfor\u001b[39;49;00m\u001b[43m \u001b[49m\u001b[43mcell\u001b[49m\u001b[43m \u001b[49m\u001b[38;5;129;43;01min\u001b[39;49;00m\u001b[43m \u001b[49m\u001b[43mitertools\u001b[49m\u001b[38;5;241;43m.\u001b[39;49m\u001b[43mchain\u001b[49m\u001b[43m(\u001b[49m\u001b[38;5;28;43mself\u001b[39;49m\u001b[38;5;241;43m.\u001b[39;49m\u001b[43m_format_header\u001b[49m\u001b[43m(\u001b[49m\u001b[43m)\u001b[49m\u001b[43m,\u001b[49m\u001b[43m \u001b[49m\u001b[38;5;28;43mself\u001b[39;49m\u001b[38;5;241;43m.\u001b[39;49m\u001b[43m_format_body\u001b[49m\u001b[43m(\u001b[49m\u001b[43m)\u001b[49m\u001b[43m)\u001b[49m\u001b[43m:\u001b[49m\n\u001b[0;32m    890\u001b[0m \u001b[43m        \u001b[49m\u001b[43mcell\u001b[49m\u001b[38;5;241;43m.\u001b[39;49m\u001b[43mval\u001b[49m\u001b[43m \u001b[49m\u001b[38;5;241;43m=\u001b[39;49m\u001b[43m \u001b[49m\u001b[38;5;28;43mself\u001b[39;49m\u001b[38;5;241;43m.\u001b[39;49m\u001b[43m_format_value\u001b[49m\u001b[43m(\u001b[49m\u001b[43mcell\u001b[49m\u001b[38;5;241;43m.\u001b[39;49m\u001b[43mval\u001b[49m\u001b[43m)\u001b[49m\n\u001b[0;32m    891\u001b[0m \u001b[43m        \u001b[49m\u001b[38;5;28;43;01myield\u001b[39;49;00m\u001b[43m \u001b[49m\u001b[43mcell\u001b[49m\n",
            "File \u001b[1;32mc:\\Users\\Gabriel\\anaconda3\\Lib\\site-packages\\pandas\\io\\formats\\excel.py:786\u001b[0m, in \u001b[0;36mExcelFormatter._format_regular_rows\u001b[1;34m(self)\u001b[0m\n\u001b[0;32m    783\u001b[0m \u001b[38;5;28;01melse\u001b[39;00m:\n\u001b[0;32m    784\u001b[0m     coloffset \u001b[38;5;241m=\u001b[39m \u001b[38;5;241m0\u001b[39m\n\u001b[1;32m--> 786\u001b[0m \u001b[38;5;28;01myield from\u001b[39;00m \u001b[38;5;28mself\u001b[39m\u001b[38;5;241m.\u001b[39m_generate_body(coloffset)\n",
            "File \u001b[1;32mc:\\Users\\Gabriel\\anaconda3\\Lib\\site-packages\\pandas\\io\\formats\\excel.py:877\u001b[0m, in \u001b[0;36mExcelFormatter._generate_body\u001b[1;34m(self, coloffset)\u001b[0m\n\u001b[0;32m    875\u001b[0m series \u001b[38;5;241m=\u001b[39m \u001b[38;5;28mself\u001b[39m\u001b[38;5;241m.\u001b[39mdf\u001b[38;5;241m.\u001b[39miloc[:, colidx]\n\u001b[0;32m    876\u001b[0m \u001b[38;5;28;01mfor\u001b[39;00m i, val \u001b[38;5;129;01min\u001b[39;00m \u001b[38;5;28menumerate\u001b[39m(series):\n\u001b[1;32m--> 877\u001b[0m     \u001b[38;5;28;01myield\u001b[39;00m \u001b[43mCssExcelCell\u001b[49m\u001b[43m(\u001b[49m\n\u001b[0;32m    878\u001b[0m \u001b[43m        \u001b[49m\u001b[43mrow\u001b[49m\u001b[38;5;241;43m=\u001b[39;49m\u001b[38;5;28;43mself\u001b[39;49m\u001b[38;5;241;43m.\u001b[39;49m\u001b[43mrowcounter\u001b[49m\u001b[43m \u001b[49m\u001b[38;5;241;43m+\u001b[39;49m\u001b[43m \u001b[49m\u001b[43mi\u001b[49m\u001b[43m,\u001b[49m\n\u001b[0;32m    879\u001b[0m \u001b[43m        \u001b[49m\u001b[43mcol\u001b[49m\u001b[38;5;241;43m=\u001b[39;49m\u001b[43mcolidx\u001b[49m\u001b[43m \u001b[49m\u001b[38;5;241;43m+\u001b[39;49m\u001b[43m \u001b[49m\u001b[43mcoloffset\u001b[49m\u001b[43m,\u001b[49m\n\u001b[0;32m    880\u001b[0m \u001b[43m        \u001b[49m\u001b[43mval\u001b[49m\u001b[38;5;241;43m=\u001b[39;49m\u001b[43mval\u001b[49m\u001b[43m,\u001b[49m\n\u001b[0;32m    881\u001b[0m \u001b[43m        \u001b[49m\u001b[43mstyle\u001b[49m\u001b[38;5;241;43m=\u001b[39;49m\u001b[38;5;28;43;01mNone\u001b[39;49;00m\u001b[43m,\u001b[49m\n\u001b[0;32m    882\u001b[0m \u001b[43m        \u001b[49m\u001b[43mcss_styles\u001b[49m\u001b[38;5;241;43m=\u001b[39;49m\u001b[38;5;28;43mgetattr\u001b[39;49m\u001b[43m(\u001b[49m\u001b[38;5;28;43mself\u001b[39;49m\u001b[38;5;241;43m.\u001b[39;49m\u001b[43mstyler\u001b[49m\u001b[43m,\u001b[49m\u001b[43m \u001b[49m\u001b[38;5;124;43m\"\u001b[39;49m\u001b[38;5;124;43mctx\u001b[39;49m\u001b[38;5;124;43m\"\u001b[39;49m\u001b[43m,\u001b[49m\u001b[43m \u001b[49m\u001b[38;5;28;43;01mNone\u001b[39;49;00m\u001b[43m)\u001b[49m\u001b[43m,\u001b[49m\n\u001b[0;32m    883\u001b[0m \u001b[43m        \u001b[49m\u001b[43mcss_row\u001b[49m\u001b[38;5;241;43m=\u001b[39;49m\u001b[43mi\u001b[49m\u001b[43m,\u001b[49m\n\u001b[0;32m    884\u001b[0m \u001b[43m        \u001b[49m\u001b[43mcss_col\u001b[49m\u001b[38;5;241;43m=\u001b[39;49m\u001b[43mcolidx\u001b[49m\u001b[43m,\u001b[49m\n\u001b[0;32m    885\u001b[0m \u001b[43m        \u001b[49m\u001b[43mcss_converter\u001b[49m\u001b[38;5;241;43m=\u001b[39;49m\u001b[38;5;28;43mself\u001b[39;49m\u001b[38;5;241;43m.\u001b[39;49m\u001b[43mstyle_converter\u001b[49m\u001b[43m,\u001b[49m\n\u001b[0;32m    886\u001b[0m \u001b[43m    \u001b[49m\u001b[43m)\u001b[49m\n",
            "File \u001b[1;32mc:\\Users\\Gabriel\\anaconda3\\Lib\\site-packages\\pandas\\io\\formats\\excel.py:106\u001b[0m, in \u001b[0;36mCssExcelCell.__init__\u001b[1;34m(self, row, col, val, style, css_styles, css_row, css_col, css_converter, **kwargs)\u001b[0m\n\u001b[0;32m    103\u001b[0m     unique_declarations \u001b[38;5;241m=\u001b[39m \u001b[38;5;28mfrozenset\u001b[39m(declaration_dict\u001b[38;5;241m.\u001b[39mitems())\n\u001b[0;32m    104\u001b[0m     style \u001b[38;5;241m=\u001b[39m css_converter(unique_declarations)\n\u001b[1;32m--> 106\u001b[0m \u001b[38;5;28;43msuper\u001b[39;49m\u001b[43m(\u001b[49m\u001b[43m)\u001b[49m\u001b[38;5;241;43m.\u001b[39;49m\u001b[38;5;21;43m__init__\u001b[39;49m\u001b[43m(\u001b[49m\u001b[43mrow\u001b[49m\u001b[38;5;241;43m=\u001b[39;49m\u001b[43mrow\u001b[49m\u001b[43m,\u001b[49m\u001b[43m \u001b[49m\u001b[43mcol\u001b[49m\u001b[38;5;241;43m=\u001b[39;49m\u001b[43mcol\u001b[49m\u001b[43m,\u001b[49m\u001b[43m \u001b[49m\u001b[43mval\u001b[49m\u001b[38;5;241;43m=\u001b[39;49m\u001b[43mval\u001b[49m\u001b[43m,\u001b[49m\u001b[43m \u001b[49m\u001b[43mstyle\u001b[49m\u001b[38;5;241;43m=\u001b[39;49m\u001b[43mstyle\u001b[49m\u001b[43m,\u001b[49m\u001b[43m \u001b[49m\u001b[38;5;241;43m*\u001b[39;49m\u001b[38;5;241;43m*\u001b[39;49m\u001b[43mkwargs\u001b[49m\u001b[43m)\u001b[49m\n",
            "\u001b[1;31mKeyboardInterrupt\u001b[0m: "
          ]
        }
      ],
      "source": [
        "# Criar datasets com defasagem apenas na coluna 'Vazao'\n",
        "data_15 = criar_defasagens(data.copy(), ['Vazao'], 15)\n",
        "data_30 = criar_defasagens(data.copy(), ['Vazao'], 30)\n",
        "data_45 = criar_defasagens(data.copy(), ['Vazao'], 45)\n",
        "\n",
        "# Pasta onde os arquivos serão salvos\n",
        "\n",
        "output_folder = 'data/modelo_1'\n",
        "\n",
        "# Criar a pasta se ela não existir\n",
        "if not os.path.exists(output_folder):\n",
        "    os.makedirs(output_folder)\n",
        "\n",
        "# Caminhos para os arquivos Excel\n",
        "file_path_15 = os.path.join(output_folder, 'data_15_dias.xlsx')\n",
        "file_path_30 = os.path.join(output_folder, 'data_30_dias.xlsx')\n",
        "file_path_45 = os.path.join(output_folder, 'data_45_dias.xlsx')\n",
        "\n",
        "# Salvar os DataFrames em arquivos Excel\n",
        "data_15.to_excel(file_path_15, index=False)\n",
        "data_30.to_excel(file_path_30, index=False)\n",
        "data_45.to_excel(file_path_45, index=False)\n",
        "\n",
        "print(\"DataFrames salvos com sucesso!\")"
      ]
    },
    {
      "cell_type": "markdown",
      "metadata": {
        "id": "MS6nrdRVSOns"
      },
      "source": [
        "# **MODELO 2**\n",
        "\n"
      ]
    },
    {
      "cell_type": "code",
      "execution_count": null,
      "metadata": {
        "colab": {
          "base_uri": "https://localhost:8080/"
        },
        "id": "D2F3LQqZSOnt",
        "outputId": "370ab10c-54ba-48ec-d5df-8014cd0bd4e5"
      },
      "outputs": [
        {
          "name": "stdout",
          "output_type": "stream",
          "text": [
            "DataFrames salvos com sucesso!\n"
          ]
        }
      ],
      "source": [
        "# Calcular derivadas\n",
        "data_com_derivadas = calcular_derivadas(data)\n",
        "\n",
        "# Criar datasets com defasagem nas colunas 'V2', 'V1' e 'Vazao'\n",
        "data_derivadas_15 = criar_defasagens(data_com_derivadas, ['V2', 'V1','Vazao'], 15)\n",
        "data_derivadas_30 = criar_defasagens(data_com_derivadas, ['V2', 'V1','Vazao'], 30)\n",
        "data_derivadas_45 = criar_defasagens(data_com_derivadas, ['V2', 'V1','Vazao'], 45)\n",
        "\n",
        "# Pasta onde os arquivos serão salvos, dentro de 'data'\n",
        "output_folder = 'data/modelo_2'\n",
        "\n",
        "# Criar a pasta 'modelo_2' dentro de 'data' se ela não existir\n",
        "if not os.path.exists(output_folder):\n",
        "    os.makedirs(output_folder)\n",
        "\n",
        "# Caminhos  para os arquivos Excel\n",
        "file_path_derivadas_15 = os.path.join(output_folder, 'data_derivadas_15_dias.xlsx')\n",
        "file_path_derivadas_30 = os.path.join(output_folder, 'data_derivadas_30_dias.xlsx')\n",
        "file_path_derivadas_45 = os.path.join(output_folder, 'data_derivadas_45_dias.xlsx')\n",
        "\n",
        "# Salvar os DataFrames em arquivos Excel\n",
        "data_derivadas_15.to_excel(file_path_derivadas_15, index=False)\n",
        "data_derivadas_30.to_excel(file_path_derivadas_30, index=False)\n",
        "data_derivadas_45.to_excel(file_path_derivadas_45, index=False)\n",
        "\n",
        "print(\"DataFrames salvos com sucesso!\")"
      ]
    },
    {
      "cell_type": "code",
      "execution_count": 4,
      "metadata": {
        "colab": {
          "base_uri": "https://localhost:8080/",
          "height": 424
        },
        "id": "mLWpFnrfSQNu",
        "outputId": "7b201560-79cf-4f0c-e4c5-38ab775c1553"
      },
      "outputs": [
        {
          "data": {
            "text/html": [
              "<div>\n",
              "<style scoped>\n",
              "    .dataframe tbody tr th:only-of-type {\n",
              "        vertical-align: middle;\n",
              "    }\n",
              "\n",
              "    .dataframe tbody tr th {\n",
              "        vertical-align: top;\n",
              "    }\n",
              "\n",
              "    .dataframe thead th {\n",
              "        text-align: right;\n",
              "    }\n",
              "</style>\n",
              "<table border=\"1\" class=\"dataframe\">\n",
              "  <thead>\n",
              "    <tr style=\"text-align: right;\">\n",
              "      <th></th>\n",
              "      <th>V2</th>\n",
              "      <th>V1</th>\n",
              "      <th>Vazao</th>\n",
              "    </tr>\n",
              "  </thead>\n",
              "  <tbody>\n",
              "    <tr>\n",
              "      <th>0</th>\n",
              "      <td>NaN</td>\n",
              "      <td>NaN</td>\n",
              "      <td>2110</td>\n",
              "    </tr>\n",
              "    <tr>\n",
              "      <th>1</th>\n",
              "      <td>NaN</td>\n",
              "      <td>-0.995261</td>\n",
              "      <td>2089</td>\n",
              "    </tr>\n",
              "    <tr>\n",
              "      <th>2</th>\n",
              "      <td>-0.871661</td>\n",
              "      <td>-1.866922</td>\n",
              "      <td>2050</td>\n",
              "    </tr>\n",
              "    <tr>\n",
              "      <th>3</th>\n",
              "      <td>-0.084298</td>\n",
              "      <td>-1.951220</td>\n",
              "      <td>2010</td>\n",
              "    </tr>\n",
              "    <tr>\n",
              "      <th>4</th>\n",
              "      <td>1.005946</td>\n",
              "      <td>-0.945274</td>\n",
              "      <td>1991</td>\n",
              "    </tr>\n",
              "    <tr>\n",
              "      <th>...</th>\n",
              "      <td>...</td>\n",
              "      <td>...</td>\n",
              "      <td>...</td>\n",
              "    </tr>\n",
              "    <tr>\n",
              "      <th>17284</th>\n",
              "      <td>-1.364289</td>\n",
              "      <td>0.389105</td>\n",
              "      <td>5418</td>\n",
              "    </tr>\n",
              "    <tr>\n",
              "      <th>17285</th>\n",
              "      <td>-3.028455</td>\n",
              "      <td>-2.639350</td>\n",
              "      <td>5275</td>\n",
              "    </tr>\n",
              "    <tr>\n",
              "      <th>17286</th>\n",
              "      <td>-1.531266</td>\n",
              "      <td>-4.170616</td>\n",
              "      <td>5055</td>\n",
              "    </tr>\n",
              "    <tr>\n",
              "      <th>17287</th>\n",
              "      <td>-0.517811</td>\n",
              "      <td>-4.688427</td>\n",
              "      <td>4818</td>\n",
              "    </tr>\n",
              "    <tr>\n",
              "      <th>17288</th>\n",
              "      <td>0.080706</td>\n",
              "      <td>-4.607721</td>\n",
              "      <td>4596</td>\n",
              "    </tr>\n",
              "  </tbody>\n",
              "</table>\n",
              "<p>17289 rows × 3 columns</p>\n",
              "</div>"
            ],
            "text/plain": [
              "             V2        V1  Vazao\n",
              "0           NaN       NaN   2110\n",
              "1           NaN -0.995261   2089\n",
              "2     -0.871661 -1.866922   2050\n",
              "3     -0.084298 -1.951220   2010\n",
              "4      1.005946 -0.945274   1991\n",
              "...         ...       ...    ...\n",
              "17284 -1.364289  0.389105   5418\n",
              "17285 -3.028455 -2.639350   5275\n",
              "17286 -1.531266 -4.170616   5055\n",
              "17287 -0.517811 -4.688427   4818\n",
              "17288  0.080706 -4.607721   4596\n",
              "\n",
              "[17289 rows x 3 columns]"
            ]
          },
          "execution_count": 4,
          "metadata": {},
          "output_type": "execute_result"
        }
      ],
      "source": [
        "data = data[['V2', 'V1', 'Vazao']]\n",
        "data"
      ]
    },
    {
      "cell_type": "markdown",
      "metadata": {},
      "source": [
        "# **MODELO 3**\n",
        "\n"
      ]
    },
    {
      "cell_type": "code",
      "execution_count": 9,
      "metadata": {},
      "outputs": [
        {
          "name": "stdout",
          "output_type": "stream",
          "text": [
            "DataFrames salvos com sucesso!\n"
          ]
        }
      ],
      "source": [
        "import numpy as np\n",
        "import pandas as pd\n",
        "import os\n",
        "\n",
        "# Leitura dos dados originais\n",
        "pd.set_option('display.max_columns', None)\n",
        "file_path = 'data/TUCURUI_DIARIA_1939_2016.xlsx'\n",
        "data = pd.read_excel(file_path, header=None, names=['Vazao'])\n",
        "\n",
        "# Função para calcular derivadas percentuais\n",
        "def calcular_derivadas(data):\n",
        "    data['V1'] = data['Vazao'].pct_change() * 100  # Primeira derivada\n",
        "    data['V2'] = data['V1'].diff() # Segunda derivada\n",
        "    return data\n",
        "\n",
        "# Função para criar colunas binárias\n",
        "def criar_colunas_binarias(data):\n",
        "    bins = pd.DataFrame(index=data.index)\n",
        "    bins['Bin1'] = ((data['V1'] > 40) & (data['V2'] > 0)).astype(int)\n",
        "    bins['Bin2'] = ((data['V1'] < -40) & (data['V2'] < 0)).astype(int)\n",
        "    bins['Bin3'] = (~((bins['Bin1'] == 1) | (bins['Bin2'] == 1))).astype(int)\n",
        "    return bins\n",
        "\n",
        "# Função para criar defasagens\n",
        "def criar_defasagens(data, colunas, entradas):\n",
        "    defasagens_list = []\n",
        "\n",
        "    for col in colunas:\n",
        "        for i in range(entradas, 0, -1):\n",
        "            defasagens_list.append(data[col].shift(i).rename(f'Entrada_{col}_{i}'))\n",
        "        defasagens_list.append(data[col])\n",
        "\n",
        "    for i in range(1, 13):  # 12 saídas para frente\n",
        "        defasagens_list.append(data['Vazao'].shift(-i).rename(f'Saida_{i}'))\n",
        "    \n",
        "    defasagens = pd.concat(defasagens_list, axis=1)\n",
        "    return defasagens\n",
        "\n",
        "# Função para criar o dataset completo com as colunas binárias\n",
        "def criar_dataset_completo(data, entradas):\n",
        "    data_com_derivadas = calcular_derivadas(data)\n",
        "    colunas_binarias = criar_colunas_binarias(data_com_derivadas)\n",
        "    data_com_derivadas = pd.concat([data_com_derivadas, colunas_binarias], axis=1)\n",
        "\n",
        "    # Criar defasagens para colunas binárias\n",
        "    defasagens_bin1 = [data_com_derivadas['Bin1'].shift(i).rename(f'Bin1_{i}') for i in range(entradas, 0, -1)]\n",
        "    defasagens_bin2 = [data_com_derivadas['Bin2'].shift(i).rename(f'Bin2_{i}') for i in range(entradas, 0, -1)]\n",
        "    defasagens_bin3 = [data_com_derivadas['Bin3'].shift(i).rename(f'Bin3_{i}') for i in range(entradas, 0, -1)]\n",
        "\n",
        "    # Concatenar defasagens para colunas binárias\n",
        "    defasagens_bin1_df = pd.concat(defasagens_bin1, axis=1)\n",
        "    defasagens_bin2_df = pd.concat(defasagens_bin2, axis=1)\n",
        "    defasagens_bin3_df = pd.concat(defasagens_bin3, axis=1)\n",
        "\n",
        "    # Criar defasagens para as outras colunas\n",
        "    defasagens_outros = criar_defasagens(data_com_derivadas, ['Vazao'], entradas)\n",
        "\n",
        "    # Concatenar tudo na ordem correta\n",
        "    defasagens = pd.concat([defasagens_bin1_df, defasagens_bin2_df, defasagens_bin3_df, data_com_derivadas[['V2', 'V1']], defasagens_outros], axis=1)\n",
        "    \n",
        "    return defasagens\n",
        "\n",
        "# Criar datasets com defasagem e colunas binárias\n",
        "data_completa_15 = criar_dataset_completo(data.copy(), 15)\n",
        "data_completa_30 = criar_dataset_completo(data.copy(), 30)\n",
        "data_completa_45 = criar_dataset_completo(data.copy(), 45)\n",
        "\n",
        "# Pasta onde os arquivos serão salvos\n",
        "output_folder = 'data/modelo_3'\n",
        "\n",
        "# Criar a pasta se ela não existir\n",
        "if not os.path.exists(output_folder):\n",
        "    os.makedirs(output_folder)\n",
        "\n",
        "# Caminhos para os arquivos Excel\n",
        "file_path_completa_15 = os.path.join(output_folder, 'data_completa_15_dias.xlsx')\n",
        "file_path_completa_30 = os.path.join(output_folder, 'data_completa_30_dias.xlsx')\n",
        "file_path_completa_45 = os.path.join(output_folder, 'data_completa_45_dias.xlsx')\n",
        "\n",
        "# Salvar os DataFrames em arquivos Excel\n",
        "data_completa_15.to_excel(file_path_completa_15, index=False)\n",
        "data_completa_30.to_excel(file_path_completa_30, index=False)\n",
        "data_completa_45.to_excel(file_path_completa_45, index=False)\n",
        "\n",
        "print(\"DataFrames salvos com sucesso!\")\n",
        "\n"
      ]
    }
  ],
  "metadata": {
    "colab": {
      "provenance": []
    },
    "kernelspec": {
      "display_name": "base",
      "language": "python",
      "name": "python3"
    },
    "language_info": {
      "codemirror_mode": {
        "name": "ipython",
        "version": 3
      },
      "file_extension": ".py",
      "mimetype": "text/x-python",
      "name": "python",
      "nbconvert_exporter": "python",
      "pygments_lexer": "ipython3",
      "version": "3.11.7"
    }
  },
  "nbformat": 4,
  "nbformat_minor": 0
}
