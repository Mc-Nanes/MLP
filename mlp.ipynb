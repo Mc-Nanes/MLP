{
 "cells": [
  {
   "cell_type": "markdown",
   "metadata": {},
   "source": [
    "# Preparação Dos Dados\n"
   ]
  },
  {
   "cell_type": "code",
   "execution_count": 3,
   "metadata": {},
   "outputs": [
    {
     "name": "stdout",
     "output_type": "stream",
     "text": [
      "\n",
      "Dataframe para 15 entradas:\n",
      "       Entrada 15  Vazao  Saida 11\n",
      "0             NaN   2110    2000.0\n",
      "1             NaN   2089    2000.0\n",
      "2             NaN   2050    1981.0\n",
      "3             NaN   2010    1990.0\n",
      "4             NaN   1991    1991.0\n",
      "...           ...    ...       ...\n",
      "17284      3790.0   5418       NaN\n",
      "17285      3909.0   5275       NaN\n",
      "17286      3992.0   5055       NaN\n",
      "17287      4141.0   4818       NaN\n",
      "17288      4307.0   4596       NaN\n",
      "\n",
      "[17289 rows x 3 columns]\n",
      "\n",
      "Dataframe para 30 entradas:\n",
      "       Entrada 30  Vazao  Saida 11\n",
      "0             NaN   2110    2000.0\n",
      "1             NaN   2089    2000.0\n",
      "2             NaN   2050    1981.0\n",
      "3             NaN   2010    1990.0\n",
      "4             NaN   1991    1991.0\n",
      "...           ...    ...       ...\n",
      "17284      3175.0   5418       NaN\n",
      "17285      3160.0   5275       NaN\n",
      "17286      3188.0   5055       NaN\n",
      "17287      3202.0   4818       NaN\n",
      "17288      3141.0   4596       NaN\n",
      "\n",
      "[17289 rows x 3 columns]\n",
      "\n",
      "Dataframe para 45 entradas:\n",
      "       Entrada 45  Vazao  Saida 11\n",
      "0             NaN   2110    2000.0\n",
      "1             NaN   2089    2000.0\n",
      "2             NaN   2050    1981.0\n",
      "3             NaN   2010    1990.0\n",
      "4             NaN   1991    1991.0\n",
      "...           ...    ...       ...\n",
      "17284      1388.0   5418       NaN\n",
      "17285      1503.0   5275       NaN\n",
      "17286      1644.0   5055       NaN\n",
      "17287      1875.0   4818       NaN\n",
      "17288      2101.0   4596       NaN\n",
      "\n",
      "[17289 rows x 3 columns]\n"
     ]
    }
   ],
   "source": [
    "import pandas as pd\n",
    "import numpy as np\n",
    "\n",
    "file_path = 'data/TUCURUI_DIARIA_1939_2016.xlsx'\n",
    "data = pd.read_excel(file_path, header=None, names=['Vazao'])\n",
    "\n",
    "# Define os intervalos de defasagem a serem testados\n",
    "intervalos = [15, 30, 45]\n",
    "\n",
    "# Loop sobre cada intervalo de defasagem\n",
    "for intervalo in intervalos:\n",
    "    \n",
    "    for i in range(intervalo, 0, -1):\n",
    "        data[f'Entrada {i}'] = data['Vazao'].shift(i)\n",
    "\n",
    "    # Define a ordem das novas colunas (defasagens de entrada + coluna original 'Vazao')\n",
    "    novas_colunas = [f'Entrada {i}' for i in range(intervalo, 0, -1)] + ['Vazao']\n",
    "    data = data[novas_colunas]\n",
    "\n",
    "    # Criação das colunas de saída defasadas\n",
    "    for i in range(1, 12):\n",
    "        data[f'Saida {i}'] = data['Vazao'].shift(-i)\n",
    "\n",
    "    # escolhi  exibir a primeira e a última coluna\n",
    "    subset_columns =  [data.columns[0], 'Vazao', data.columns[-1]]\n",
    "    \n",
    "    print(f\"\\nDataframe para {intervalo} entradas:\")\n",
    "    print(data.loc[:, subset_columns]) # Exibe as primeiras 2 linhas do DataFrame para verificar o resultado\n"
   ]
  }
 ],
 "metadata": {
  "kernelspec": {
   "display_name": "base",
   "language": "python",
   "name": "python3"
  },
  "language_info": {
   "codemirror_mode": {
    "name": "ipython",
    "version": 3
   },
   "file_extension": ".py",
   "mimetype": "text/x-python",
   "name": "python",
   "nbconvert_exporter": "python",
   "pygments_lexer": "ipython3",
   "version": "3.10.1"
  }
 },
 "nbformat": 4,
 "nbformat_minor": 2
}
