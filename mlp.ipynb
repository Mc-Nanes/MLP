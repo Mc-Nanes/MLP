{
 "cells": [
  {
   "cell_type": "markdown",
   "metadata": {},
   "source": [
    "# Preparação Dos Dados\n"
   ]
  },
  {
   "cell_type": "code",
   "execution_count": 1,
   "metadata": {},
   "outputs": [
    {
     "name": "stdout",
     "output_type": "stream",
     "text": [
      "\n",
      "Dataframe for lag range 15:\n",
      "   Entrada 15  Vazao  Saida 11\n",
      "0         NaN   2110    2000.0\n",
      "1         NaN   2089    2000.0\n",
      "\n",
      "Dataframe for lag range 30:\n",
      "   Entrada 30  Vazao  Saida 11\n",
      "0         NaN   2110    2000.0\n",
      "1         NaN   2089    2000.0\n",
      "\n",
      "Dataframe for lag range 45:\n",
      "   Entrada 45  Vazao  Saida 11\n",
      "0         NaN   2110    2000.0\n",
      "1         NaN   2089    2000.0\n"
     ]
    }
   ],
   "source": [
    "import pandas as pd\n",
    "import numpy as np\n",
    "\n",
    "file_path = 'data/TUCURUI_DIARIA_1939_2016.xlsx'\n",
    "data = pd.read_excel(file_path, header=None, names=['Vazao'])\n",
    "\n",
    "# Define os intervalos de defasagem a serem testados\n",
    "lag_ranges = [15, 30, 45]\n",
    "\n",
    "# Loop sobre cada intervalo de defasagem\n",
    "for lag_range in lag_ranges:\n",
    "    \n",
    "    for i in range(lag_range, 0, -1):\n",
    "        data[f'Entrada {i}'] = data['Vazao'].shift(i)\n",
    "\n",
    "    # Define a ordem das novas colunas (defasagens de entrada + coluna original 'Vazao')\n",
    "    novas_colunas = [f'Entrada {i}' for i in range(lag_range, 0, -1)] + ['Vazao']\n",
    "    data = data[novas_colunas]\n",
    "\n",
    "    # Criação das colunas de saída defasadas\n",
    "    for i in range(1, 12):\n",
    "        data[f'Saida {i}'] = data['Vazao'].shift(-i)\n",
    "\n",
    "    # escolhi  exibir a primeira e a última coluna\n",
    "    subset_columns =  [data.columns[0], 'Vazao', data.columns[-1]]\n",
    "    \n",
    "    print(f\"\\nDataframe for lag range {lag_range}:\")\n",
    "    print(data.head(2).loc[:, subset_columns]) # Exibe as primeiras 2 linhas do DataFrame para verificar o resultado\n"
   ]
  }
 ],
 "metadata": {
  "kernelspec": {
   "display_name": "base",
   "language": "python",
   "name": "python3"
  },
  "language_info": {
   "codemirror_mode": {
    "name": "ipython",
    "version": 3
   },
   "file_extension": ".py",
   "mimetype": "text/x-python",
   "name": "python",
   "nbconvert_exporter": "python",
   "pygments_lexer": "ipython3",
   "version": "3.10.1"
  }
 },
 "nbformat": 4,
 "nbformat_minor": 2
}
