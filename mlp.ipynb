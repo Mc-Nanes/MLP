{
 "cells": [
  {
   "cell_type": "markdown",
   "metadata": {},
   "source": [
    "# Preparação Dos Dados\n"
   ]
  },
  {
   "cell_type": "code",
   "execution_count": 1,
   "metadata": {},
   "outputs": [],
   "source": [
    "import numpy as np\n",
    "import pandas as pd\n",
    "import os\n",
    "\n",
    "# Leitura dos dados originais\n",
    "# mostrar todas as colunas\n",
    "pd.set_option('display.max_columns', None)\n",
    "file_path = 'data/TUCURUI_DIARIA_1939_2016.xlsx'\n",
    "data = pd.read_excel(file_path, header=None, names=['Vazao'])\n",
    "\n",
    "# Função para calcular derivadas percentuais\n",
    "def calcular_derivadas(data):\n",
    "    data['V1'] = data['Vazao'].pct_change() * 100  # Primeira derivada \n",
    "    data['V2'] = data['V1'].pct_change() * 100  # Segunda derivada \n",
    "    return data\n",
    "\n",
    "\n",
    "\n",
    "# Função para criar defasagens\n",
    "def criar_defasagens(data, colunas, entradas):\n",
    "    defasagens_list = []\n",
    "    \n",
    "    for col in colunas:\n",
    "        for i in range(entradas, 0, -1):\n",
    "            defasagens_list.append(data[col].shift(i).rename(f'Entrada_{col}_{i}'))\n",
    "        defasagens_list.append(data[col]) \n",
    "        \n",
    "    for i in range(1, 12):\n",
    "        defasagens_list.append(data['Vazao'].shift(-i).rename(f'Saida_{i}'))\n",
    "    defasagens = pd.concat(defasagens_list, axis=1)\n",
    "    return defasagens"
   ]
  },
  {
   "cell_type": "markdown",
   "metadata": {},
   "source": [
    "# **MODELO 1**"
   ]
  },
  {
   "cell_type": "code",
   "execution_count": 2,
   "metadata": {},
   "outputs": [
    {
     "name": "stdout",
     "output_type": "stream",
     "text": [
      "DataFrames salvos com sucesso!\n"
     ]
    }
   ],
   "source": [
    "# Criar datasets com defasagem apenas na coluna 'Vazao'\n",
    "data_15 = criar_defasagens(data.copy(), ['Vazao'], 15)\n",
    "data_30 = criar_defasagens(data.copy(), ['Vazao'], 30)\n",
    "data_45 = criar_defasagens(data.copy(), ['Vazao'], 45)\n",
    "\n",
    "# Pasta onde os arquivos serão salvos\n",
    "\n",
    "output_folder = 'data/modelo_1'\n",
    "\n",
    "# Criar a pasta se ela não existir\n",
    "if not os.path.exists(output_folder):\n",
    "    os.makedirs(output_folder)\n",
    "\n",
    "# Caminhos para os arquivos Excel\n",
    "file_path_15 = os.path.join(output_folder, 'data_15_dias.xlsx')\n",
    "file_path_30 = os.path.join(output_folder, 'data_30_dias.xlsx')\n",
    "file_path_45 = os.path.join(output_folder, 'data_45_dias.xlsx')\n",
    "\n",
    "# Salvar os DataFrames em arquivos Excel \n",
    "data_15.to_excel(file_path_15, index=False)\n",
    "data_30.to_excel(file_path_30, index=False)\n",
    "data_45.to_excel(file_path_45, index=False)\n",
    "\n",
    "print(\"DataFrames salvos com sucesso!\")"
   ]
  },
  {
   "cell_type": "markdown",
   "metadata": {},
   "source": [
    "# **MODELO 2**\n",
    "\n"
   ]
  },
  {
   "cell_type": "code",
   "execution_count": 3,
   "metadata": {},
   "outputs": [
    {
     "name": "stdout",
     "output_type": "stream",
     "text": [
      "DataFrames salvos com sucesso!\n"
     ]
    }
   ],
   "source": [
    "# Calcular derivadas\n",
    "data_com_derivadas = calcular_derivadas(data)\n",
    "\n",
    "# Criar datasets com defasagem nas colunas 'V2', 'V1' e 'Vazao'\n",
    "data_derivadas_15 = criar_defasagens(data_com_derivadas, ['V2', 'V1','Vazao'], 15)\n",
    "data_derivadas_30 = criar_defasagens(data_com_derivadas, ['V2', 'V1','Vazao'], 30)\n",
    "data_derivadas_45 = criar_defasagens(data_com_derivadas, ['V2', 'V1','Vazao'], 45)\n",
    "\n",
    "# Pasta onde os arquivos serão salvos, dentro de 'data'\n",
    "output_folder = 'data/modelo_2'\n",
    "\n",
    "# Criar a pasta 'modelo_2' dentro de 'data' se ela não existir\n",
    "if not os.path.exists(output_folder):\n",
    "    os.makedirs(output_folder)\n",
    "\n",
    "# Caminhos  para os arquivos Excel \n",
    "file_path_derivadas_15 = os.path.join(output_folder, 'data_derivadas_15_dias.xlsx')\n",
    "file_path_derivadas_30 = os.path.join(output_folder, 'data_derivadas_30_dias.xlsx')\n",
    "file_path_derivadas_45 = os.path.join(output_folder, 'data_derivadas_45_dias.xlsx')\n",
    "\n",
    "# Salvar os DataFrames em arquivos Excel \n",
    "data_derivadas_15.to_excel(file_path_derivadas_15, index=False)\n",
    "data_derivadas_30.to_excel(file_path_derivadas_30, index=False)\n",
    "data_derivadas_45.to_excel(file_path_derivadas_45, index=False)\n",
    "\n",
    "print(\"DataFrames salvos com sucesso!\")"
   ]
  }
 ],
 "metadata": {
  "kernelspec": {
   "display_name": "base",
   "language": "python",
   "name": "python3"
  },
  "language_info": {
   "codemirror_mode": {
    "name": "ipython",
    "version": 3
   },
   "file_extension": ".py",
   "mimetype": "text/x-python",
   "name": "python",
   "nbconvert_exporter": "python",
   "pygments_lexer": "ipython3",
   "version": "3.10.1"
  }
 },
 "nbformat": 4,
 "nbformat_minor": 2
}
